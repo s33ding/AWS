{
 "cells": [
  {
   "cell_type": "code",
   "execution_count": 2,
   "metadata": {},
   "outputs": [],
   "source": [
    "import requests\n",
    "# from aws_requests_auth.boto_utils import BotoAWSRequestsAuth\n",
    "from aws_requests_auth.aws_auth import AWSRequestsAuth\n",
    "import json"
   ]
  },
  {
   "cell_type": "code",
   "execution_count": 3,
   "metadata": {},
   "outputs": [],
   "source": [
    "with open('SOURCE/source.json','r') as f:\n",
    "    payload = json.load(f)\n",
    "\n",
    "with open('SOURCE/credential.json','r') as f:\n",
    "    cred = json.load(f) "
   ]
  },
  {
   "cell_type": "markdown",
   "metadata": {},
   "source": [
    "- AUTHENTICATING"
   ]
  },
  {
   "cell_type": "code",
   "execution_count": null,
   "metadata": {},
   "outputs": [],
   "source": [
    "regionName = 'us-east-1'\n",
    "serviceName = 'execute-api'\n",
    "hostName = f\"ymn8cdhq68.{serviceName}.{regionName}.amazonaws.com\"\n",
    "projectName = \"my-script\"\n",
    "\n",
    "auth = AWSRequestsAuth(aws_access_key=cred['id'],\n",
    "                       aws_secret_access_key=cred['secret'],\n",
    "                       aws_host=hostName,\n",
    "                       aws_region=regionName,\n",
    "                       aws_service=serviceName)"
   ]
  },
  {
   "cell_type": "code",
   "execution_count": null,
   "metadata": {},
   "outputs": [],
   "source": [
    "step = 0\n",
    "response = requests.post(f'https://{hostName}/{projectName}-p{step}', auth=auth, json=payload)\n",
    "\n",
    "json.loads(response.content)"
   ]
  }
 ],
 "metadata": {
  "kernelspec": {
   "display_name": "Python 3.10.7 64-bit",
   "language": "python",
   "name": "python3"
  },
  "language_info": {
   "codemirror_mode": {
    "name": "ipython",
    "version": 3
   },
   "file_extension": ".py",
   "mimetype": "text/x-python",
   "name": "python",
   "nbconvert_exporter": "python",
   "pygments_lexer": "ipython3",
   "version": "3.10.7"
  },
  "orig_nbformat": 4,
  "vscode": {
   "interpreter": {
    "hash": "e7370f93d1d0cde622a1f8e1c04877d8463912d04d973331ad4851f04de6915a"
   }
  }
 },
 "nbformat": 4,
 "nbformat_minor": 2
}
