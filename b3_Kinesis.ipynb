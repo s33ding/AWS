{
 "cells": [
  {
   "cell_type": "markdown",
   "metadata": {},
   "source": [
    "### FIREHOSE\n",
    "- Reliably load real-time streams into data lakes, warehouses, and analytics services"
   ]
  },
  {
   "cell_type": "code",
   "execution_count": null,
   "metadata": {},
   "outputs": [],
   "source": [
    "import boto3\n",
    "from pandas import read_csv\n",
    "from time import sleep"
   ]
  },
  {
   "cell_type": "code",
   "execution_count": null,
   "metadata": {},
   "outputs": [],
   "source": [
    "key_file = '/home/roberto/Documents/aws.csv'\n",
    "df = read_csv(key_file)\n",
    "key_file = '/home/roberto/Documents/awsFirehoseARN.csv'\n",
    "dfARN =read_csv(key_file)\n",
    "userName = 'roberto_casa'\n",
    "\n",
    "AWS_KEY_ID = df[df.user==userName]['Access key ID'][0]\n",
    "AWS_SECRET = df[df.user==userName]['Secret access key'][0]\n",
    "AWS_ARN_FIREHOSE = dfARN['arnFirehose'][0]\n",
    "AWS_ARN_S3 = dfARN.iloc[:,1][0]\n",
    "\n",
    "firehose = boto3.client('firehose', region_name='us-east-1', \n",
    "                         aws_access_key_id=AWS_KEY_ID, \n",
    "                         aws_secret_access_key=AWS_SECRET)\n",
    "\n",
    "s3 = boto3.client('s3', region_name='us-east-1', \n",
    "                         aws_access_key_id=AWS_KEY_ID, \n",
    "                         aws_secret_access_key=AWS_SECRET)\n"
   ]
  },
  {
   "cell_type": "code",
   "execution_count": 222,
   "metadata": {},
   "outputs": [
    {
     "name": "stdout",
     "output_type": "stream",
     "text": [
      "arn:aws:s3:::aws-emr-resources-408411726795-us-east-1\n",
      "arn:aws:s3:::aws-logs-408411726795-us-east-1\n",
      "arn:aws:s3:::databricks-workspace-stack-lambdazipsbucket-i3ixqoaq5qmb\n",
      "arn:aws:s3:::db-d041ca200718732155ef996e3f967fa0-s3-root-bucket\n",
      "arn:aws:s3:::pizza-orders\n",
      "arn:aws:s3:::roberto-server\n"
     ]
    }
   ],
   "source": [
    "BucketName = 'pizza-orders'\n",
    "s3.create_bucket(Bucket= bucketName)\n",
    "\n",
    "# List the buckets in S3\n",
    "for bucket_info in s3.list_buckets()['Buckets']:\n",
    "    \n",
    "    # Get the bucket_name\n",
    "    bucket_name = bucket_info['Name']\n",
    "    \n",
    "    # Generate bucket ARN.\n",
    "    arn = \"arn:aws:s3:::{}\".format(bucket_name)\n",
    "    if 'pizza' in arn:\n",
    "        AWS_BUCKET_PIZZA =arn\n",
    "    # Print the ARN\n",
    "    print(arn)"
   ]
  },
  {
   "cell_type": "code",
   "execution_count": null,
   "metadata": {},
   "outputs": [],
   "source": [
    "streamName = 'orders-food'\n",
    "res = firehose.create_delivery_stream(\n",
    "    DeliveryStreamName = streamName,\n",
    "    DeliveryStreamType = 'DirectPut',\n",
    "    S3DestinationConfiguration = {\n",
    "        \"RoleARN\" : AWS_ARN_FIREHOSE,\n",
    "        \"BucketARN\" : AWS_BUCKET_PIZZA\n",
    "    }\n",
    ")"
   ]
  },
  {
   "cell_type": "code",
   "execution_count": 232,
   "metadata": {},
   "outputs": [
    {
     "name": "stdout",
     "output_type": "stream",
     "text": [
      "['orders-food']\n"
     ]
    }
   ],
   "source": [
    "#show created delivery strams\n",
    "response = firehose.list_delivery_streams()\n",
    "print(response['DeliveryStreamNames'])"
   ]
  },
  {
   "cell_type": "code",
   "execution_count": 230,
   "metadata": {},
   "outputs": [
    {
     "name": "stdout",
     "output_type": "stream",
     "text": [
      "arn:aws:firehose:us-east-1:408411726795:deliverystream/orders-food\n"
     ]
    }
   ],
   "source": [
    "print(res['DeliveryStreamARN'])"
   ]
  },
  {
   "cell_type": "code",
   "execution_count": null,
   "metadata": {},
   "outputs": [],
   "source": [
    "# OBD2_sensors.py: Write to Firehose stream. EDIT HERE.\n",
    "for idx, row in records.iterrows(): \n",
    "\n",
    "    # Create a payload string that ends with a newline\n",
    "    payload = ' '.join(str(value) for value in row) \n",
    "    payload = payload + \"\\n\"\n",
    "    print(\"Sending payload: {}\".format(payload))\n",
    "\n",
    "    # Send the payload string to Firehose stream\n",
    "    res = firehose.put_record(\n",
    "        DeliveryStreamName = 'gps-delivery-stream',\n",
    "        Record = {'Data': payload})\n",
    "\n",
    "    # Print the written RecordId\n",
    "    print(\"Wrote to RecordId: {}\".format(res['RecordId']))"
   ]
  },
  {
   "cell_type": "code",
   "execution_count": 229,
   "metadata": {},
   "outputs": [],
   "source": [
    "#Delete them all!\n",
    "for stream_name in response['DeliveryStreamNames']:\n",
    "    firehose.delete_delivery_stream(DeliveryStreamName = stream_name)"
   ]
  }
 ],
 "metadata": {
  "kernelspec": {
   "display_name": "Python 3.10.5 64-bit",
   "language": "python",
   "name": "python3"
  },
  "language_info": {
   "codemirror_mode": {
    "name": "ipython",
    "version": 3
   },
   "file_extension": ".py",
   "mimetype": "text/x-python",
   "name": "python",
   "nbconvert_exporter": "python",
   "pygments_lexer": "ipython3",
   "version": "3.10.6"
  },
  "orig_nbformat": 4,
  "vscode": {
   "interpreter": {
    "hash": "e7370f93d1d0cde622a1f8e1c04877d8463912d04d973331ad4851f04de6915a"
   }
  }
 },
 "nbformat": 4,
 "nbformat_minor": 2
}
