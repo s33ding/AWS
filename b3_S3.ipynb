{
 "cells": [
  {
   "cell_type": "code",
   "execution_count": 1,
   "metadata": {},
   "outputs": [],
   "source": [
    "import boto3\n",
    "import pandas as pd\n",
    "from time import sleep"
   ]
  },
  {
   "cell_type": "code",
   "execution_count": 6,
   "metadata": {},
   "outputs": [],
   "source": [
    "key_file = '/home/roberto/Documents/aws.csv'\n",
    "df = pd.read_csv(key_file)\n",
    "\n",
    "userName = 'roberto_casa'\n",
    "\n",
    "AWS_KEY_ID = df[df.user==userName]['Access key ID'][0]\n",
    "AWS_SECRET = df[df.user==userName]['Secret access key'][0]\n",
    "\n",
    "s3 = boto3.client('s3', region_name='us-east-1', \n",
    "                         aws_access_key_id=AWS_KEY_ID, \n",
    "                         aws_secret_access_key=AWS_SECRET)\n",
    "\n",
    "# df\n"
   ]
  },
  {
   "cell_type": "code",
   "execution_count": 4,
   "metadata": {},
   "outputs": [
    {
     "name": "stdout",
     "output_type": "stream",
     "text": [
      "My buckets: ['roberto-server', 'trash-456']\n"
     ]
    }
   ],
   "source": [
    "s3.create_bucket(Bucket= \"trash-456\")\n",
    "\n",
    "def printing_buckets():\n",
    "    lst = []\n",
    "    for bucket in  s3.list_buckets()['Buckets']:\n",
    "        lst.append(bucket['Name'])\n",
    "    print(f\"My buckets: {lst}\")\n",
    "\n",
    "printing_buckets()\n"
   ]
  },
  {
   "cell_type": "code",
   "execution_count": 28,
   "metadata": {},
   "outputs": [
    {
     "name": "stdout",
     "output_type": "stream",
     "text": [
      "My buckets: ['roberto-server']\n"
     ]
    }
   ],
   "source": [
    "#listing buckets\n",
    "for bucket in s3.list_buckets()['Buckets']:\n",
    "  #deleting buckets with 'trash' inside of its name.\n",
    "  if 'trash' in bucket['Name']: \n",
    "      s3.delete_bucket(Bucket=bucket['Name'])\n",
    "\n",
    "printing_buckets()    "
   ]
  },
  {
   "cell_type": "code",
   "execution_count": 26,
   "metadata": {},
   "outputs": [],
   "source": [
    "fileSrc = './filesToUpload/mascot.jpeg'\n",
    "keyName = 'linux.jpeg'\n",
    "bucketName = 'roberto-server'\n",
    "\n",
    "#uploading the file t aws\n",
    "s3.upload_file(\n",
    "    Bucket = bucketName,\n",
    "    Filename= fileSrc,\n",
    "    Key = keyName, \n",
    ")\n",
    "\n",
    "# response = s3.list_objects(Bucket = bucketName)\n",
    "    #MaxKeys = 100, #limit the total items to show\n",
    "    #Prefix = 'linux'\n",
    "\n",
    "\n",
    "# #Getting object metadata\n",
    "# print(f\"Content: \\n\\n{response['Contents']}\")\n",
    "# #Printing the Metadata\n",
    "# response = s3.head_object(Bucket = bucketName,Key = keyName)\n",
    "# print(f\"Metadata: \\n\\n{response}\")\n",
    "\n",
    "# download the file from aws\n",
    "s3.download_file(\n",
    "    Filename= keyName,\n",
    "    Bucket= bucketName, \n",
    "    Key = keyName)\n",
    "\n",
    "# deleting the file after download to matain the project clean\n",
    "sleep(3.5)\n",
    "s3.delete_object( Bucket=bucketName, Key=keyName)\n",
    "# linux command\n",
    "!rm -r linux.jpeg\n",
    "\n"
   ]
  },
  {
   "cell_type": "code",
   "execution_count": 9,
   "metadata": {},
   "outputs": [
    {
     "name": "stdout",
     "output_type": "stream",
     "text": [
      "https://roberto-server.s3.amazonaws.com/linux.jpeg\n"
     ]
    },
    {
     "data": {
      "text/plain": [
       "{'ResponseMetadata': {'RequestId': 'RAJ7AFMFMPRA570M',\n",
       "  'HostId': 'M3d3BIoLers9OSWkxFq5fk4BFulBeihwwmYuOhvqUe9DGIXQNB/pRbTkKTM73auQzEYkyrnxTOg=',\n",
       "  'HTTPStatusCode': 204,\n",
       "  'HTTPHeaders': {'x-amz-id-2': 'M3d3BIoLers9OSWkxFq5fk4BFulBeihwwmYuOhvqUe9DGIXQNB/pRbTkKTM73auQzEYkyrnxTOg=',\n",
       "   'x-amz-request-id': 'RAJ7AFMFMPRA570M',\n",
       "   'date': 'Fri, 15 Apr 2022 01:36:56 GMT',\n",
       "   'server': 'AmazonS3'},\n",
       "  'RetryAttempts': 0}}"
      ]
     },
     "execution_count": 9,
     "metadata": {},
     "output_type": "execute_result"
    }
   ],
   "source": [
    "# uploading the file with extra arg so that it can be public, for default aws files are upload as private for security reasons\n",
    "s3.upload_file(\n",
    "    Bucket = bucketName,\n",
    "    Filename= fileSrc,\n",
    "    Key = keyName, \n",
    "    ExtraArgs = {'ACL':'public-read'}\n",
    "    )\n",
    "\n",
    "# you can also make the entire bucket public with command bellow\n",
    "#  s3.put_object_acl(\n",
    "#      Bucket= bucketName,\n",
    "#      Key = keyName,\n",
    "#      ACL = 'public-read'\n",
    "#  )\n",
    "\n",
    "\n",
    "url = 'https://{}.s3.amazonaws.com/{}'.format(bucketName, keyName); print(url)\n",
    "\n",
    "sleep(10)\n",
    "s3.delete_object( Bucket=bucketName, Key=keyName)"
   ]
  },
  {
   "cell_type": "code",
   "execution_count": 15,
   "metadata": {},
   "outputs": [
    {
     "name": "stdout",
     "output_type": "stream",
     "text": [
      "http://roberto-server.s3.amazonaws.com/home.html\n"
     ]
    }
   ],
   "source": [
    "htmlFileName = 'home.html'\n",
    "fileSrcHtml = './filesToUpload/'+htmlFileName\n",
    "\n",
    "# Upload the lines.html file to S3\n",
    "s3.upload_file(Filename=fileSrcHtml, \n",
    "               # Set the bucket name\n",
    "               Bucket=bucketName, Key=htmlFileName,\n",
    "               # Configure uploaded file\n",
    "               ExtraArgs = {\n",
    "                 # Set proper content type\n",
    "                 'ContentType':'text/html',\n",
    "                 # Set proper ACL\n",
    "                 'ACL': 'public-read'})\n",
    "\n",
    "# Print the S3 Public Object URL for the new file.\n",
    "print(\"http://{}.s3.amazonaws.com/{}\".format(bucketName, htmlFileName))"
   ]
  },
  {
   "cell_type": "code",
   "execution_count": 27,
   "metadata": {},
   "outputs": [
    {
     "name": "stdout",
     "output_type": "stream",
     "text": [
      "http://roberto-server.s3.amazonaws.com/campeonato-brasileiro-full.html\n",
      "My buckets: ['roberto-server']\n"
     ]
    }
   ],
   "source": [
    "csvFile = './filesToUpload/campeonato-brasileiro-full.csv'\n",
    "df = pd.read_csv(csvFile)\n",
    "\n",
    "htmlFileName = 'campeonato-brasileiro-full.html'\n",
    "fileSrcHtml = './filesToUpload/'+htmlFileName\n",
    "df.to_html(fileSrcHtml, border=0, render_links=True)\n",
    "\n",
    "\n",
    "# Upload the generated HTML to the gid-reports bucket\n",
    "s3.upload_file(Filename= fileSrcHtml, \n",
    "\tKey=htmlFileName, Bucket=bucketName,\n",
    "    ExtraArgs = {'ContentType': 'text/html', \n",
    "                 'ACL': 'public-read'})\n",
    "\n",
    "# # Upload the generated CSV to the gid-reports bucket\n",
    "# s3.upload_file(Filename='./feb_final_report.csv', \n",
    "# \tKey='html/final_report.html', Bucket='gid-reports',\n",
    "#     ExtraArgs = {'ACL': 'public-read'})\n",
    "\n",
    "print(\"http://{}.s3.amazonaws.com/{}\".format(bucketName, htmlFileName))\n",
    "printing_buckets()    "
   ]
  }
 ],
 "metadata": {
  "interpreter": {
   "hash": "31f2aee4e71d21fbe5cf8b01ff0e069b9275f58929596ceb00d14d90e3e16cd6"
  },
  "kernelspec": {
   "display_name": "Python 3.8.10 64-bit",
   "language": "python",
   "name": "python3"
  },
  "language_info": {
   "codemirror_mode": {
    "name": "ipython",
    "version": 3
   },
   "file_extension": ".py",
   "mimetype": "text/x-python",
   "name": "python",
   "nbconvert_exporter": "python",
   "pygments_lexer": "ipython3",
   "version": "3.8.10"
  },
  "orig_nbformat": 4
 },
 "nbformat": 4,
 "nbformat_minor": 2
}
