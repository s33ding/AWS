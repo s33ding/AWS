{
 "cells": [
  {
   "cell_type": "code",
   "execution_count": 1,
   "metadata": {},
   "outputs": [],
   "source": [
    "import boto3\n",
    "import pandas as pd\n",
    "from time import sleep"
   ]
  },
  {
   "cell_type": "code",
   "execution_count": 3,
   "metadata": {},
   "outputs": [],
   "source": [
    "key_file = '/run/media/roberto/black-box/.syek/aws/admin_accessKeys.csv'\n",
    "df = pd.read_csv(key_file)\n",
    "AWS_KEY_ID = df['Access key ID'][0]\n",
    "AWS_SECRET = df['Secret access key'][0]\n",
    "\n",
    "sns = boto3.client('sns', region_name='us-east-1', \n",
    "                        aws_access_key_id=AWS_KEY_ID, \n",
    "                        aws_secret_access_key=AWS_SECRET)"
   ]
  },
  {
   "cell_type": "markdown",
   "metadata": {},
   "source": [
    "CREATING A TOPIC"
   ]
  },
  {
   "cell_type": "code",
   "execution_count": 15,
   "metadata": {},
   "outputs": [
    {
     "data": {
      "text/plain": [
       "'arn:aws:sns:us-east-1:408411726795:reuniao_da_datai'"
      ]
     },
     "execution_count": 15,
     "metadata": {},
     "output_type": "execute_result"
    }
   ],
   "source": [
    "topic_name = \"reuniao_da_datai\"\n",
    "response = sns.create_topic(Name=topic_name)\n",
    "topic_arn = response['TopicArn']\n",
    "\n",
    "#shortcut\n",
    "topicResponse = sns.create_topic(Name=topic_name)['TopicArn']\n",
    "topicResponse"
   ]
  },
  {
   "cell_type": "markdown",
   "metadata": {},
   "source": [
    "CREATING A LIST OF TOPICS"
   ]
  },
  {
   "cell_type": "code",
   "execution_count": null,
   "metadata": {},
   "outputs": [],
   "source": [
    "departments = ['trash', 'streets', 'water']\n",
    "\n",
    "for dept in departments:\n",
    "  \t# For every department, create a general topic\n",
    "    sns.create_topic(Name=\"{}_general\".format(dept))\n",
    "    \n",
    "    # For every department, create a critical topic\n",
    "    sns.create_topic(Name=\"{}_critical\".format(dept))\n",
    "\n",
    "# Print all the topics in SNS\n",
    "response = sns.list_topics()\n",
    "print(response['Topics'])"
   ]
  },
  {
   "cell_type": "markdown",
   "metadata": {},
   "source": [
    "LISTING TOPICS"
   ]
  },
  {
   "cell_type": "code",
   "execution_count": 11,
   "metadata": {},
   "outputs": [
    {
     "name": "stdout",
     "output_type": "stream",
     "text": [
      "{'TopicArn': 'arn:aws:sns:us-east-1:408411726795:Default_CloudWatch_Alarms_Topic'}\n",
      "{'TopicArn': 'arn:aws:sns:us-east-1:408411726795:__Roberto__SNS__'}\n",
      "{'TopicArn': 'arn:aws:sns:us-east-1:408411726795:reuniao_da_datai'}\n"
     ]
    }
   ],
   "source": [
    "# listing topics\n",
    "response = sns.list_topics()\n",
    "for topic in response['Topics']:\n",
    "    print(topic)"
   ]
  },
  {
   "cell_type": "markdown",
   "metadata": {},
   "source": [
    "DELETE A TOPIC"
   ]
  },
  {
   "cell_type": "code",
   "execution_count": 13,
   "metadata": {},
   "outputs": [
    {
     "name": "stdout",
     "output_type": "stream",
     "text": [
      "{'TopicArn': 'arn:aws:sns:us-east-1:408411726795:Default_CloudWatch_Alarms_Topic'}\n",
      "{'TopicArn': 'arn:aws:sns:us-east-1:408411726795:__Roberto__SNS__'}\n"
     ]
    }
   ],
   "source": [
    "ARN_TOPIC = 'arn:aws:sns:us-east-1:408411726795:reuniao_da_datai'\n",
    "sns.delete_topic(TopicArn=ARN_TOPIC)\n",
    "\n",
    "response = sns.list_topics()\n",
    "for topic in response['Topics']:\n",
    "    print(topic)"
   ]
  },
  {
   "cell_type": "markdown",
   "metadata": {},
   "source": [
    "SMS SUBSCRIPTION"
   ]
  },
  {
   "cell_type": "code",
   "execution_count": 14,
   "metadata": {},
   "outputs": [
    {
     "ename": "NotFoundException",
     "evalue": "An error occurred (NotFound) when calling the Subscribe operation: Topic does not exist",
     "output_type": "error",
     "traceback": [
      "\u001b[0;31m---------------------------------------------------------------------------\u001b[0m",
      "\u001b[0;31mNotFoundException\u001b[0m                         Traceback (most recent call last)",
      "\u001b[1;32m/home/roberto/github/aws-1/b3_SNS.ipynb Cell 12\u001b[0m in \u001b[0;36m<cell line: 1>\u001b[0;34m()\u001b[0m\n\u001b[0;32m----> <a href='vscode-notebook-cell:/home/roberto/github/aws-1/b3_SNS.ipynb#X14sZmlsZQ%3D%3D?line=0'>1</a>\u001b[0m response \u001b[39m=\u001b[39m sns\u001b[39m.\u001b[39;49msubscribe(\n\u001b[1;32m      <a href='vscode-notebook-cell:/home/roberto/github/aws-1/b3_SNS.ipynb#X14sZmlsZQ%3D%3D?line=1'>2</a>\u001b[0m     TopicArn \u001b[39m=\u001b[39;49m ARN_TOPIC,\n\u001b[1;32m      <a href='vscode-notebook-cell:/home/roberto/github/aws-1/b3_SNS.ipynb#X14sZmlsZQ%3D%3D?line=2'>3</a>\u001b[0m     Protocol \u001b[39m=\u001b[39;49m \u001b[39m'\u001b[39;49m\u001b[39mSMS\u001b[39;49m\u001b[39m'\u001b[39;49m,\n\u001b[1;32m      <a href='vscode-notebook-cell:/home/roberto/github/aws-1/b3_SNS.ipynb#X14sZmlsZQ%3D%3D?line=3'>4</a>\u001b[0m     Endpoint \u001b[39m=\u001b[39;49m \u001b[39m'\u001b[39;49m\u001b[39m+5561982340088\u001b[39;49m\u001b[39m'\u001b[39;49m\n\u001b[1;32m      <a href='vscode-notebook-cell:/home/roberto/github/aws-1/b3_SNS.ipynb#X14sZmlsZQ%3D%3D?line=4'>5</a>\u001b[0m )\n",
      "File \u001b[0;32m~/.local/lib/python3.10/site-packages/botocore/client.py:508\u001b[0m, in \u001b[0;36mClientCreator._create_api_method.<locals>._api_call\u001b[0;34m(self, *args, **kwargs)\u001b[0m\n\u001b[1;32m    504\u001b[0m     \u001b[39mraise\u001b[39;00m \u001b[39mTypeError\u001b[39;00m(\n\u001b[1;32m    505\u001b[0m         \u001b[39mf\u001b[39m\u001b[39m\"\u001b[39m\u001b[39m{\u001b[39;00mpy_operation_name\u001b[39m}\u001b[39;00m\u001b[39m() only accepts keyword arguments.\u001b[39m\u001b[39m\"\u001b[39m\n\u001b[1;32m    506\u001b[0m     )\n\u001b[1;32m    507\u001b[0m \u001b[39m# The \"self\" in this scope is referring to the BaseClient.\u001b[39;00m\n\u001b[0;32m--> 508\u001b[0m \u001b[39mreturn\u001b[39;00m \u001b[39mself\u001b[39;49m\u001b[39m.\u001b[39;49m_make_api_call(operation_name, kwargs)\n",
      "File \u001b[0;32m~/.local/lib/python3.10/site-packages/botocore/client.py:915\u001b[0m, in \u001b[0;36mBaseClient._make_api_call\u001b[0;34m(self, operation_name, api_params)\u001b[0m\n\u001b[1;32m    913\u001b[0m     error_code \u001b[39m=\u001b[39m parsed_response\u001b[39m.\u001b[39mget(\u001b[39m\"\u001b[39m\u001b[39mError\u001b[39m\u001b[39m\"\u001b[39m, {})\u001b[39m.\u001b[39mget(\u001b[39m\"\u001b[39m\u001b[39mCode\u001b[39m\u001b[39m\"\u001b[39m)\n\u001b[1;32m    914\u001b[0m     error_class \u001b[39m=\u001b[39m \u001b[39mself\u001b[39m\u001b[39m.\u001b[39mexceptions\u001b[39m.\u001b[39mfrom_code(error_code)\n\u001b[0;32m--> 915\u001b[0m     \u001b[39mraise\u001b[39;00m error_class(parsed_response, operation_name)\n\u001b[1;32m    916\u001b[0m \u001b[39melse\u001b[39;00m:\n\u001b[1;32m    917\u001b[0m     \u001b[39mreturn\u001b[39;00m parsed_response\n",
      "\u001b[0;31mNotFoundException\u001b[0m: An error occurred (NotFound) when calling the Subscribe operation: Topic does not exist"
     ]
    }
   ],
   "source": [
    "response = sns.subscribe(\n",
    "    TopicArn = ARN_TOPIC,\n",
    "    Protocol = 'SMS',\n",
    "    Endpoint = '+5561982340088'\n",
    ")"
   ]
  }
 ],
 "metadata": {
  "kernelspec": {
   "display_name": "Python 3.10.6 64-bit",
   "language": "python",
   "name": "python3"
  },
  "language_info": {
   "codemirror_mode": {
    "name": "ipython",
    "version": 3
   },
   "file_extension": ".py",
   "mimetype": "text/x-python",
   "name": "python",
   "nbconvert_exporter": "python",
   "pygments_lexer": "ipython3",
   "version": "3.10.6"
  },
  "orig_nbformat": 4,
  "vscode": {
   "interpreter": {
    "hash": "e7370f93d1d0cde622a1f8e1c04877d8463912d04d973331ad4851f04de6915a"
   }
  }
 },
 "nbformat": 4,
 "nbformat_minor": 2
}
