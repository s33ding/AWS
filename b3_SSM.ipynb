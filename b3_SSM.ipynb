{
 "cells": [
  {
   "cell_type": "code",
   "execution_count": 16,
   "metadata": {},
   "outputs": [],
   "source": [
    "\"\"\"\n",
    "Created on Mon May  9 10:39:12 2022\n",
    "\n",
    "@author: Eduardo\n",
    "\"\"\"\n"
   ]
  },
  {
   "cell_type": "code",
   "execution_count": 1,
   "metadata": {},
   "outputs": [],
   "source": [
    "import boto3\n",
    "import json\n",
    "import sqlalchemy as sqla\n",
    "import mysql.connector\n",
    "import time\n",
    "import mysql.connector\n",
    "import time"
   ]
  },
  {
   "cell_type": "code",
   "execution_count": 4,
   "metadata": {},
   "outputs": [],
   "source": [
    "pth = ''\n",
    "\n",
    "with open(pth) as file:\n",
    "    cred = json.load(file)\n",
    "\n",
    "client = boto3.client('ssm',\n",
    "                      region_name='us-east-1',\n",
    "                      aws_access_key_id=cred.get('usr'),\n",
    "                      aws_secret_access_key=cred.get('passwd')\n",
    "                      )"
   ]
  },
  {
   "cell_type": "code",
   "execution_count": 5,
   "metadata": {},
   "outputs": [],
   "source": [
    "db = {'host':'/dados/rds/host', \n",
    "      'passwd':'/dados/rds/password',\n",
    "      'user':'/dados/rds/user', \n",
    "      'port':'/dados/rds/port'}\n",
    "\n",
    "for key,name in db.items():\n",
    "    request = client.get_parameter(Name = name, WithDecryption=True)\n",
    "    db[key] = request['Parameter']['Value']"
   ]
  },
  {
   "cell_type": "code",
   "execution_count": 6,
   "metadata": {},
   "outputs": [],
   "source": [
    "def test_connection(connection):    \n",
    "    \"\"\"\n",
    "    This function test the engine.connection with the SQL server.\n",
    "    ARGS:\n",
    "        connection(func): engine.connetion.\n",
    "    \"\"\"\n",
    "    try:\n",
    "        with connection as con:\n",
    "            con.execute(\"SELECT 1\")\n",
    "        print('engine is valid')\n",
    "    except Exception as e:\n",
    "        print(f'Engine invalid: {str(e)}')"
   ]
  },
  {
   "cell_type": "code",
   "execution_count": 7,
   "metadata": {},
   "outputs": [
    {
     "name": "stdout",
     "output_type": "stream",
     "text": [
      "engine is valid\n"
     ]
    }
   ],
   "source": [
    "\n",
    "mydb = mysql.connector.connect(\n",
    "  host=db['host'], #insira seu host aqui\n",
    "  user=db[\"user\"], #insira seu usuário\n",
    "  password=db[\"passwd\"] #insira sua senha aqui\n",
    ")\n",
    "\n",
    "mycursor = mydb.cursor(buffered=True)\n",
    "test_connection(mycursor)"
   ]
  }
 ],
 "metadata": {
  "kernelspec": {
   "display_name": "Python 3.10.5 64-bit",
   "language": "python",
   "name": "python3"
  },
  "language_info": {
   "codemirror_mode": {
    "name": "ipython",
    "version": 3
   },
   "file_extension": ".py",
   "mimetype": "text/x-python",
   "name": "python",
   "nbconvert_exporter": "python",
   "pygments_lexer": "ipython3",
   "version": "3.10.6"
  },
  "orig_nbformat": 4,
  "vscode": {
   "interpreter": {
    "hash": "e7370f93d1d0cde622a1f8e1c04877d8463912d04d973331ad4851f04de6915a"
   }
  }
 },
 "nbformat": 4,
 "nbformat_minor": 2
}
