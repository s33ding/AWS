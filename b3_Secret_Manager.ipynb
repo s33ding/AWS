{
 "cells": [
  {
   "cell_type": "code",
   "execution_count": 1,
   "metadata": {},
   "outputs": [],
   "source": [
    "import boto3\n",
    "import mysql.connector\n",
    "import json"
   ]
  },
  {
   "cell_type": "code",
   "execution_count": 1,
   "metadata": {},
   "outputs": [
    {
     "ename": "NameError",
     "evalue": "name 'pd' is not defined",
     "output_type": "error",
     "traceback": [
      "\u001b[0;31m---------------------------------------------------------------------------\u001b[0m",
      "\u001b[0;31mNameError\u001b[0m                                 Traceback (most recent call last)",
      "\u001b[1;32m/home/roberto/github/aws-1/b3_secret_man.ipynb Cell 2\u001b[0m in \u001b[0;36m<cell line: 2>\u001b[0;34m()\u001b[0m\n\u001b[1;32m      <a href='vscode-notebook-cell:/home/roberto/github/aws-1/b3_secret_man.ipynb#W1sZmlsZQ%3D%3D?line=0'>1</a>\u001b[0m key_file \u001b[39m=\u001b[39m \u001b[39m'\u001b[39m\u001b[39m'\u001b[39m\n\u001b[0;32m----> <a href='vscode-notebook-cell:/home/roberto/github/aws-1/b3_secret_man.ipynb#W1sZmlsZQ%3D%3D?line=1'>2</a>\u001b[0m df \u001b[39m=\u001b[39m pd\u001b[39m.\u001b[39mread_csv(key_file)\n\u001b[1;32m      <a href='vscode-notebook-cell:/home/roberto/github/aws-1/b3_secret_man.ipynb#W1sZmlsZQ%3D%3D?line=2'>3</a>\u001b[0m AWS_KEY_ID \u001b[39m=\u001b[39m df[\u001b[39m'\u001b[39m\u001b[39mAccess key ID\u001b[39m\u001b[39m'\u001b[39m][\u001b[39m0\u001b[39m]\n\u001b[1;32m      <a href='vscode-notebook-cell:/home/roberto/github/aws-1/b3_secret_man.ipynb#W1sZmlsZQ%3D%3D?line=3'>4</a>\u001b[0m AWS_SECRET \u001b[39m=\u001b[39m df[\u001b[39m'\u001b[39m\u001b[39mSecret access key\u001b[39m\u001b[39m'\u001b[39m][\u001b[39m0\u001b[39m]\n",
      "\u001b[0;31mNameError\u001b[0m: name 'pd' is not defined"
     ]
    }
   ],
   "source": [
    "key_file = ''\n",
    "df = pd.read_csv(key_file)\n",
    "AWS_KEY_ID = df['Access key ID'][0]\n",
    "AWS_SECRET = df['Secret access key'][0]\n",
    "\n",
    "session = boto3.session.Session()\n",
    "client = boto3.client('secretsmanager', region_name='us-east-1',\n",
    "                      aws_access_key_id=AWS_KEY_ID,\n",
    "                      aws_secret_access_key=AWS_SECRET)\n",
    "\n",
    "get_secret_value_response = client.get_secret_value(SecretId=\"telebot-db\")"
   ]
  },
  {
   "cell_type": "code",
   "execution_count": 5,
   "metadata": {},
   "outputs": [],
   "source": [
    "db = json.loads(get_secret_value_response['SecretString'])"
   ]
  },
  {
   "cell_type": "code",
   "execution_count": null,
   "metadata": {},
   "outputs": [],
   "source": [
    "mydb =  mysql.connector.connect(\n",
    "            host= db['host'],\n",
    "            user= db['username'],\n",
    "            password= db['password']\n",
    "            ) ### incluir usuário e senha\n",
    "\n"
   ]
  }
 ],
 "metadata": {
  "kernelspec": {
   "display_name": "Python 3.10.6 64-bit",
   "language": "python",
   "name": "python3"
  },
  "language_info": {
   "codemirror_mode": {
    "name": "ipython",
    "version": 3
   },
   "file_extension": ".py",
   "mimetype": "text/x-python",
   "name": "python",
   "nbconvert_exporter": "python",
   "pygments_lexer": "ipython3",
   "version": "3.10.6"
  },
  "orig_nbformat": 4,
  "vscode": {
   "interpreter": {
    "hash": "e7370f93d1d0cde622a1f8e1c04877d8463912d04d973331ad4851f04de6915a"
   }
  }
 },
 "nbformat": 4,
 "nbformat_minor": 2
}
