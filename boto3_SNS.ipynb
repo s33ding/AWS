{
 "cells": [
  {
   "cell_type": "code",
   "execution_count": 26,
   "metadata": {},
   "outputs": [],
   "source": [
    "import boto3\n",
    "import pandas as pd\n",
    "from time import sleep"
   ]
  },
  {
   "cell_type": "code",
   "execution_count": 41,
   "metadata": {},
   "outputs": [],
   "source": [
    "key_file = '/home/roberto/Documents/aws.csv'\n",
    "df = pd.read_csv(key_file)\n",
    "AWS_KEY_ID = df['Access key ID'][0]\n",
    "AWS_SECRET = df['Secret access key'][0]\n",
    "\n",
    "sns = boto3.client('sns', region_name='us-east-1', \n",
    "                         aws_access_key_id=AWS_KEY_ID, \n",
    "                         aws_secret_access_key=AWS_SECRET)"
   ]
  },
  {
   "cell_type": "code",
   "execution_count": 46,
   "metadata": {},
   "outputs": [
    {
     "data": {
      "text/plain": [
       "'arn:aws:sns:us-east-1:408411726795:__Roberto__SNS__'"
      ]
     },
     "execution_count": 46,
     "metadata": {},
     "output_type": "execute_result"
    }
   ],
   "source": [
    "nameTopic = \"__Roberto__SNS__\"\n",
    "response = sns.create_topic(Name=nameTopic)\n",
    "topic_arn = response['TopicArn']\n",
    "\n",
    "#shortcut\n",
    "topicResponse = sns.create_topic(Name=nameTopic)['TopicArn']\n",
    "topicResponse"
   ]
  },
  {
   "cell_type": "code",
   "execution_count": 47,
   "metadata": {},
   "outputs": [
    {
     "name": "stdout",
     "output_type": "stream",
     "text": [
      "2\n",
      "{'Topics': [{'TopicArn': 'arn:aws:sns:us-east-1:408411726795:Default_CloudWatch_Alarms_Topic'}, {'TopicArn': 'arn:aws:sns:us-east-1:408411726795:__Roberto__SNS__'}], 'ResponseMetadata': {'RequestId': '0b5648ae-d0c5-50d2-b82c-127c0fb3b474', 'HTTPStatusCode': 200, 'HTTPHeaders': {'x-amzn-requestid': '0b5648ae-d0c5-50d2-b82c-127c0fb3b474', 'content-type': 'text/xml', 'content-length': '508', 'date': 'Fri, 15 Apr 2022 02:49:26 GMT'}, 'RetryAttempts': 0}}\n"
     ]
    }
   ],
   "source": [
    "# listing topics\n",
    "response = sns.list_topics()\n",
    "print(f'{response}')\n",
    "\n"
   ]
  },
  {
   "cell_type": "code",
   "execution_count": 49,
   "metadata": {},
   "outputs": [
    {
     "name": "stdout",
     "output_type": "stream",
     "text": [
      "{'Topics': [{'TopicArn': 'arn:aws:sns:us-east-1:408411726795:Default_CloudWatch_Alarms_Topic'}], 'ResponseMetadata': {'RequestId': '9f5e1059-8841-5c5d-984f-4a8b57f09179', 'HTTPStatusCode': 200, 'HTTPHeaders': {'x-amzn-requestid': '9f5e1059-8841-5c5d-984f-4a8b57f09179', 'content-type': 'text/xml', 'content-length': '396', 'date': 'Fri, 15 Apr 2022 02:50:25 GMT'}, 'RetryAttempts': 0}}\n"
     ]
    }
   ],
   "source": [
    "#delete topic\n",
    "sns.delete_topic(TopicArn=topicResponse)\n",
    "\n",
    "response = sns.list_topics()\n",
    "\n",
    "print(f'{response}')\n"
   ]
  },
  {
   "cell_type": "code",
   "execution_count": null,
   "metadata": {},
   "outputs": [],
   "source": []
  }
 ],
 "metadata": {
  "interpreter": {
   "hash": "31f2aee4e71d21fbe5cf8b01ff0e069b9275f58929596ceb00d14d90e3e16cd6"
  },
  "kernelspec": {
   "display_name": "Python 3.8.10 64-bit",
   "language": "python",
   "name": "python3"
  },
  "language_info": {
   "codemirror_mode": {
    "name": "ipython",
    "version": 3
   },
   "file_extension": ".py",
   "mimetype": "text/x-python",
   "name": "python",
   "nbconvert_exporter": "python",
   "pygments_lexer": "ipython3",
   "version": "3.8.10"
  },
  "orig_nbformat": 4
 },
 "nbformat": 4,
 "nbformat_minor": 2
}
