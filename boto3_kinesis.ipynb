{
 "cells": [
  {
   "cell_type": "markdown",
   "metadata": {},
   "source": [
    "### FIREHOSE\n",
    "- Reliably load real-time streams into data lakes, warehouses, and analytics services"
   ]
  },
  {
   "cell_type": "code",
   "execution_count": 235,
   "metadata": {},
   "outputs": [],
   "source": [
    "import boto3\n",
    "from pandas import read_csv\n",
    "from time import sleep"
   ]
  },
  {
   "cell_type": "code",
   "execution_count": 226,
   "metadata": {},
   "outputs": [],
   "source": [
    "key_file = '/home/roberto/Documents/aws.csv'\n",
    "df = read_csv(key_file)\n",
    "key_file = '/home/roberto/Documents/awsFirehoseARN.csv'\n",
    "dfARN =read_csv(key_file)\n",
    "\n",
    "userName = 'roberto_casa'\n",
    "\n",
    "AWS_KEY_ID = df[df.user==userName]['Access key ID'][0]\n",
    "AWS_SECRET = df[df.user==userName]['Secret access key'][0]\n",
    "AWS_ARN_FIREHOSE = dfARN['arnFirehose'][0]\n",
    "AWS_ARN_S3 = dfARN.iloc[:,1][0]\n",
    "\n",
    "firehose = boto3.client('firehose', region_name='us-east-1', \n",
    "                         aws_access_key_id=AWS_KEY_ID, \n",
    "                         aws_secret_access_key=AWS_SECRET)\n",
    "\n",
    "s3 = boto3.client('s3', region_name='us-east-1', \n",
    "                         aws_access_key_id=AWS_KEY_ID, \n",
    "                         aws_secret_access_key=AWS_SECRET)\n"
   ]
  },
  {
   "cell_type": "code",
   "execution_count": 222,
   "metadata": {},
   "outputs": [
    {
     "name": "stdout",
     "output_type": "stream",
     "text": [
      "arn:aws:s3:::aws-emr-resources-408411726795-us-east-1\n",
      "arn:aws:s3:::aws-logs-408411726795-us-east-1\n",
      "arn:aws:s3:::databricks-workspace-stack-lambdazipsbucket-i3ixqoaq5qmb\n",
      "arn:aws:s3:::db-d041ca200718732155ef996e3f967fa0-s3-root-bucket\n",
      "arn:aws:s3:::pizza-orders\n",
      "arn:aws:s3:::roberto-server\n"
     ]
    }
   ],
   "source": [
    "BucketName = 'pizza-orders'\n",
    "s3.create_bucket(Bucket= bucketName)\n",
    "\n",
    "# List the buckets in S3\n",
    "for bucket_info in s3.list_buckets()['Buckets']:\n",
    "    \n",
    "    # Get the bucket_name\n",
    "    bucket_name = bucket_info['Name']\n",
    "    \n",
    "    # Generate bucket ARN.\n",
    "    arn = \"arn:aws:s3:::{}\".format(bucket_name)\n",
    "    if 'pizza' in arn:\n",
    "        AWS_BUCKET_PIZZA =arn\n",
    "    # Print the ARN\n",
    "    print(arn)"
   ]
  },
  {
   "cell_type": "code",
   "execution_count": null,
   "metadata": {},
   "outputs": [],
   "source": [
    "streamName = 'orders-food'\n",
    "res = firehose.create_delivery_stream(\n",
    "    DeliveryStreamName = streamName,\n",
    "    DeliveryStreamType = 'DirectPut',\n",
    "    S3DestinationConfiguration = {\n",
    "        \"RoleARN\" : AWS_ARN_FIREHOSE,\n",
    "        \"BucketARN\" : AWS_BUCKET_PIZZA\n",
    "    }\n",
    ")"
   ]
  },
  {
   "cell_type": "code",
   "execution_count": 232,
   "metadata": {},
   "outputs": [
    {
     "name": "stdout",
     "output_type": "stream",
     "text": [
      "['orders-food']\n"
     ]
    }
   ],
   "source": [
    "#show created delivery strams\n",
    "response = firehose.list_delivery_streams()\n",
    "print(response['DeliveryStreamNames'])"
   ]
  },
  {
   "cell_type": "code",
   "execution_count": 230,
   "metadata": {},
   "outputs": [
    {
     "name": "stdout",
     "output_type": "stream",
     "text": [
      "arn:aws:firehose:us-east-1:408411726795:deliverystream/orders-food\n"
     ]
    }
   ],
   "source": [
    "print(res['DeliveryStreamARN'])"
   ]
  },
  {
   "cell_type": "code",
   "execution_count": 239,
   "metadata": {},
   "outputs": [
    {
     "ename": "NameError",
     "evalue": "name 'records' is not defined",
     "output_type": "error",
     "traceback": [
      "\u001b[0;31m---------------------------------------------------------------------------\u001b[0m",
      "\u001b[0;31mNameError\u001b[0m                                 Traceback (most recent call last)",
      "\u001b[1;32m/home/roberto/Github/aws/boto3_kinesis.ipynb Cell 8'\u001b[0m in \u001b[0;36m<cell line: 2>\u001b[0;34m()\u001b[0m\n\u001b[1;32m      <a href='vscode-notebook-cell:/home/roberto/Github/aws/boto3_kinesis.ipynb#ch0000027?line=0'>1</a>\u001b[0m \u001b[39m# OBD2_sensors.py: Write to Firehose stream. EDIT HERE.\u001b[39;00m\n\u001b[0;32m----> <a href='vscode-notebook-cell:/home/roberto/Github/aws/boto3_kinesis.ipynb#ch0000027?line=1'>2</a>\u001b[0m \u001b[39mfor\u001b[39;00m idx, row \u001b[39min\u001b[39;00m records\u001b[39m.\u001b[39miterrows(): \n\u001b[1;32m      <a href='vscode-notebook-cell:/home/roberto/Github/aws/boto3_kinesis.ipynb#ch0000027?line=2'>3</a>\u001b[0m \n\u001b[1;32m      <a href='vscode-notebook-cell:/home/roberto/Github/aws/boto3_kinesis.ipynb#ch0000027?line=3'>4</a>\u001b[0m     \u001b[39m# Create a payload string that ends with a newline\u001b[39;00m\n\u001b[1;32m      <a href='vscode-notebook-cell:/home/roberto/Github/aws/boto3_kinesis.ipynb#ch0000027?line=4'>5</a>\u001b[0m     payload \u001b[39m=\u001b[39m \u001b[39m'\u001b[39m\u001b[39m \u001b[39m\u001b[39m'\u001b[39m\u001b[39m.\u001b[39mjoin(\u001b[39mstr\u001b[39m(value) \u001b[39mfor\u001b[39;00m value \u001b[39min\u001b[39;00m row) \n\u001b[1;32m      <a href='vscode-notebook-cell:/home/roberto/Github/aws/boto3_kinesis.ipynb#ch0000027?line=5'>6</a>\u001b[0m     payload \u001b[39m=\u001b[39m payload \u001b[39m+\u001b[39m \u001b[39m\"\u001b[39m\u001b[39m\\n\u001b[39;00m\u001b[39m\"\u001b[39m\n",
      "\u001b[0;31mNameError\u001b[0m: name 'records' is not defined"
     ]
    }
   ],
   "source": [
    "# OBD2_sensors.py: Write to Firehose stream. EDIT HERE.\n",
    "for idx, row in records.iterrows(): \n",
    "\n",
    "    # Create a payload string that ends with a newline\n",
    "    payload = ' '.join(str(value) for value in row) \n",
    "    payload = payload + \"\\n\"\n",
    "    print(\"Sending payload: {}\".format(payload))\n",
    "\n",
    "    # Send the payload string to Firehose stream\n",
    "    res = firehose.put_record(\n",
    "        DeliveryStreamName = 'gps-delivery-stream',\n",
    "        Record = {'Data': payload})\n",
    "\n",
    "    # Print the written RecordId\n",
    "    print(\"Wrote to RecordId: {}\".format(res['RecordId']))\n"
   ]
  },
  {
   "cell_type": "code",
   "execution_count": 229,
   "metadata": {},
   "outputs": [],
   "source": [
    "#Delete them all!\n",
    "for stream_name in response['DeliveryStreamNames']:\n",
    "    firehose.delete_delivery_stream(DeliveryStreamName = stream_name)"
   ]
  }
 ],
 "metadata": {
  "interpreter": {
   "hash": "31f2aee4e71d21fbe5cf8b01ff0e069b9275f58929596ceb00d14d90e3e16cd6"
  },
  "kernelspec": {
   "display_name": "Python 3.8.10 64-bit",
   "language": "python",
   "name": "python3"
  },
  "language_info": {
   "codemirror_mode": {
    "name": "ipython",
    "version": 3
   },
   "file_extension": ".py",
   "mimetype": "text/x-python",
   "name": "python",
   "nbconvert_exporter": "python",
   "pygments_lexer": "ipython3",
   "version": "3.10.4"
  },
  "orig_nbformat": 4
 },
 "nbformat": 4,
 "nbformat_minor": 2
}
