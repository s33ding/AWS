{
 "cells": [
  {
   "cell_type": "code",
   "execution_count": 2,
   "metadata": {},
   "outputs": [],
   "source": [
    "import boto3\n",
    "import mysql.connector\n",
    "import json"
   ]
  },
  {
   "cell_type": "code",
   "execution_count": null,
   "metadata": {},
   "outputs": [],
   "source": [
    "with open ('/run/media/roberto/black-box/.syek/aws/s33ding.json', \"r\") as f:\n",
    "    cred = json.load(f)\n",
    "\n",
    "session = boto3.session.Session()\n",
    "client = boto3.client('secretsmanager', region_name='us-east-1',\n",
    "                      aws_access_key_id=cred.get(\"id\"),\n",
    "                      aws_secret_access_key=cred.get(\"secret\"))\n",
    "\n",
    "get_secret_value_response = client.get_secret_value(SecretId=\"rds-example\")"
   ]
  },
  {
   "cell_type": "code",
   "execution_count": 5,
   "metadata": {},
   "outputs": [],
   "source": [
    "db = json.loads(get_secret_value_response['SecretString'])"
   ]
  },
  {
   "cell_type": "code",
   "execution_count": null,
   "metadata": {},
   "outputs": [],
   "source": [
    "mydb =  mysql.connector.connect(\n",
    "            host= db['host'],\n",
    "            user= db['username'],\n",
    "            password= db['password']\n",
    "            ) ### incluir usuário e senha"
   ]
  }
 ],
 "metadata": {
  "kernelspec": {
   "display_name": "Python 3.10.6 64-bit",
   "language": "python",
   "name": "python3"
  },
  "language_info": {
   "codemirror_mode": {
    "name": "ipython",
    "version": 3
   },
   "file_extension": ".py",
   "mimetype": "text/x-python",
   "name": "python",
   "nbconvert_exporter": "python",
   "pygments_lexer": "ipython3",
   "version": "3.10.7"
  },
  "orig_nbformat": 4,
  "vscode": {
   "interpreter": {
    "hash": "e7370f93d1d0cde622a1f8e1c04877d8463912d04d973331ad4851f04de6915a"
   }
  }
 },
 "nbformat": 4,
 "nbformat_minor": 2
}
